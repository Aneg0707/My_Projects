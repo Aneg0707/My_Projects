{
 "cells": [
  {
   "cell_type": "code",
   "execution_count": 2,
   "id": "bfa5a23f",
   "metadata": {},
   "outputs": [],
   "source": [
    "import pandas as pd\n",
    "\n",
    "\n",
    "data = pd.read_csv(\"https://raw.githubusercontent.com/Aneg0707/IBM-Watson-Marketing-Customer-Value-Data/main/WA_Fn-UseC_-Marketing-Customer-Value-Analysis.csv\")"
   ]
  },
  {
   "cell_type": "markdown",
   "id": "0e683a1b",
   "metadata": {},
   "source": [
    "# Data Overview & Preparation"
   ]
  },
  {
   "cell_type": "code",
   "execution_count": 3,
   "id": "801a8e46",
   "metadata": {
    "scrolled": true
   },
   "outputs": [
    {
     "name": "stdout",
     "output_type": "stream",
     "text": [
      "<class 'pandas.core.frame.DataFrame'>\n",
      "RangeIndex: 9134 entries, 0 to 9133\n",
      "Data columns (total 24 columns):\n",
      " #   Column                         Non-Null Count  Dtype  \n",
      "---  ------                         --------------  -----  \n",
      " 0   Customer                       9134 non-null   object \n",
      " 1   State                          9134 non-null   object \n",
      " 2   Customer Lifetime Value        9134 non-null   float64\n",
      " 3   Response                       9134 non-null   object \n",
      " 4   Coverage                       9134 non-null   object \n",
      " 5   Education                      9134 non-null   object \n",
      " 6   Effective To Date              9134 non-null   object \n",
      " 7   EmploymentStatus               9134 non-null   object \n",
      " 8   Gender                         9134 non-null   object \n",
      " 9   Income                         9134 non-null   int64  \n",
      " 10  Location Code                  9134 non-null   object \n",
      " 11  Marital Status                 9134 non-null   object \n",
      " 12  Monthly Premium Auto           9134 non-null   int64  \n",
      " 13  Months Since Last Claim        9134 non-null   int64  \n",
      " 14  Months Since Policy Inception  9134 non-null   int64  \n",
      " 15  Number of Open Complaints      9134 non-null   int64  \n",
      " 16  Number of Policies             9134 non-null   int64  \n",
      " 17  Policy Type                    9134 non-null   object \n",
      " 18  Policy                         9134 non-null   object \n",
      " 19  Renew Offer Type               9134 non-null   object \n",
      " 20  Sales Channel                  9134 non-null   object \n",
      " 21  Total Claim Amount             9134 non-null   float64\n",
      " 22  Vehicle Class                  9134 non-null   object \n",
      " 23  Vehicle Size                   9134 non-null   object \n",
      "dtypes: float64(2), int64(6), object(16)\n",
      "memory usage: 1.7+ MB\n"
     ]
    }
   ],
   "source": [
    "data.info()"
   ]
  },
  {
   "cell_type": "code",
   "execution_count": 4,
   "id": "3c01256f",
   "metadata": {},
   "outputs": [
    {
     "data": {
      "text/plain": [
       "Customer                         0\n",
       "State                            0\n",
       "Customer Lifetime Value          0\n",
       "Response                         0\n",
       "Coverage                         0\n",
       "Education                        0\n",
       "Effective To Date                0\n",
       "EmploymentStatus                 0\n",
       "Gender                           0\n",
       "Income                           0\n",
       "Location Code                    0\n",
       "Marital Status                   0\n",
       "Monthly Premium Auto             0\n",
       "Months Since Last Claim          0\n",
       "Months Since Policy Inception    0\n",
       "Number of Open Complaints        0\n",
       "Number of Policies               0\n",
       "Policy Type                      0\n",
       "Policy                           0\n",
       "Renew Offer Type                 0\n",
       "Sales Channel                    0\n",
       "Total Claim Amount               0\n",
       "Vehicle Class                    0\n",
       "Vehicle Size                     0\n",
       "dtype: int64"
      ]
     },
     "execution_count": 4,
     "metadata": {},
     "output_type": "execute_result"
    }
   ],
   "source": [
    "data.isnull().sum()"
   ]
  },
  {
   "cell_type": "code",
   "execution_count": 5,
   "id": "7947b444",
   "metadata": {},
   "outputs": [],
   "source": [
    "import time\n",
    "import pandas as pd\n",
    "import numpy as np\n",
    "import matplotlib.pyplot as plt\n",
    "import seaborn as sns\n",
    "\n",
    "sns.set(style=\"whitegrid\", color_codes=True)\n",
    "import itertools\n",
    "%matplotlib inline  "
   ]
  },
  {
   "cell_type": "code",
   "execution_count": 6,
   "id": "b9b0cfc6",
   "metadata": {},
   "outputs": [],
   "source": [
    "def plot_confusion_matrix(cm, classes,\n",
    "                          normalize=False,\n",
    "                          title='Confusion matrix',\n",
    "                          cmap=plt.cm.Blues):\n",
    "    \"\"\"\n",
    "    This function prints and plots the confusion matrix.\n",
    "    Normalization can be applied by setting `normalize=True`.\n",
    "    \"\"\"\n",
    "    plt.imshow(cm, interpolation='nearest', cmap=cmap)\n",
    "    plt.title(title)\n",
    "    plt.colorbar()\n",
    "    tick_marks = np.arange(len(classes))\n",
    "    plt.xticks(tick_marks, classes, rotation=45)\n",
    "    plt.yticks(tick_marks, classes)\n",
    "\n",
    "    if normalize:\n",
    "        cm = cm.astype('float') / cm.sum(axis=1)[:, np.newaxis]\n",
    "        print(\"Normalized confusion matrix\")\n",
    "    else:\n",
    "        print('Confusion matrix, without normalization')\n",
    "\n",
    "    print(cm)\n",
    "\n",
    "    thresh = 3*cm.max()/4\n",
    "    for i, j in itertools.product(range(cm.shape[0]), range(cm.shape[1])):\n",
    "        plt.text(j, i, cm[i, j],\n",
    "                 horizontalalignment=\"center\",\n",
    "                 color=\"white\" if cm[i, j] > thresh else \"black\")\n",
    "\n",
    "    plt.tight_layout()\n",
    "    plt.ylabel('True label')\n",
    "    plt.xlabel('Predicted label')\n"
   ]
  },
  {
   "cell_type": "code",
   "execution_count": 7,
   "id": "d08c4e01",
   "metadata": {},
   "outputs": [],
   "source": [
    "def pretty_metrics(precision_recall_fscore=0,accuracy_score=0):\n",
    "    if precision_recall_fscore==0:\n",
    "        metric_dict={'accuracy':[],'precision':[],'recall':[],'F1':[]}\n",
    "        return metric_dict\n",
    "    #This function prints out the precision, recall,f-score and accuracy is also saves the result to a dictionary \n",
    "    metric_dict={'accuracy':[],'precision':[],'recall':[],'F1':[]}\n",
    "    metric_dict['accuracy']=accuracy_score\n",
    "    metric_dict['precision']=precision_recall_fscore[0][1]\n",
    "    metric_dict['recall']=precision_recall_fscore[1][1]\n",
    "    metric_dict['F1']=precision_recall_fscore[2][1]\n",
    "    [print(key,value) for key, value in metric_dict.items()]\n",
    "    return metric_dict"
   ]
  },
  {
   "cell_type": "code",
   "execution_count": 8,
   "id": "c4dd326f",
   "metadata": {},
   "outputs": [
    {
     "data": {
      "text/plain": [
       "(9134, 24)"
      ]
     },
     "execution_count": 8,
     "metadata": {},
     "output_type": "execute_result"
    }
   ],
   "source": [
    "data.shape"
   ]
  },
  {
   "cell_type": "code",
   "execution_count": 9,
   "id": "3c335cb3",
   "metadata": {
    "scrolled": true
   },
   "outputs": [
    {
     "data": {
      "text/html": [
       "<div>\n",
       "<style scoped>\n",
       "    .dataframe tbody tr th:only-of-type {\n",
       "        vertical-align: middle;\n",
       "    }\n",
       "\n",
       "    .dataframe tbody tr th {\n",
       "        vertical-align: top;\n",
       "    }\n",
       "\n",
       "    .dataframe thead th {\n",
       "        text-align: right;\n",
       "    }\n",
       "</style>\n",
       "<table border=\"1\" class=\"dataframe\">\n",
       "  <thead>\n",
       "    <tr style=\"text-align: right;\">\n",
       "      <th></th>\n",
       "      <th>Customer Lifetime Value</th>\n",
       "      <th>Income</th>\n",
       "      <th>Monthly Premium Auto</th>\n",
       "      <th>Months Since Last Claim</th>\n",
       "      <th>Months Since Policy Inception</th>\n",
       "      <th>Number of Open Complaints</th>\n",
       "      <th>Number of Policies</th>\n",
       "      <th>Total Claim Amount</th>\n",
       "    </tr>\n",
       "  </thead>\n",
       "  <tbody>\n",
       "    <tr>\n",
       "      <th>count</th>\n",
       "      <td>9134.000000</td>\n",
       "      <td>9134.000000</td>\n",
       "      <td>9134.000000</td>\n",
       "      <td>9134.000000</td>\n",
       "      <td>9134.000000</td>\n",
       "      <td>9134.000000</td>\n",
       "      <td>9134.000000</td>\n",
       "      <td>9134.000000</td>\n",
       "    </tr>\n",
       "    <tr>\n",
       "      <th>mean</th>\n",
       "      <td>8004.940475</td>\n",
       "      <td>37657.380009</td>\n",
       "      <td>93.219291</td>\n",
       "      <td>15.097000</td>\n",
       "      <td>48.064594</td>\n",
       "      <td>0.384388</td>\n",
       "      <td>2.966170</td>\n",
       "      <td>434.088794</td>\n",
       "    </tr>\n",
       "    <tr>\n",
       "      <th>std</th>\n",
       "      <td>6870.967608</td>\n",
       "      <td>30379.904734</td>\n",
       "      <td>34.407967</td>\n",
       "      <td>10.073257</td>\n",
       "      <td>27.905991</td>\n",
       "      <td>0.910384</td>\n",
       "      <td>2.390182</td>\n",
       "      <td>290.500092</td>\n",
       "    </tr>\n",
       "    <tr>\n",
       "      <th>min</th>\n",
       "      <td>1898.007675</td>\n",
       "      <td>0.000000</td>\n",
       "      <td>61.000000</td>\n",
       "      <td>0.000000</td>\n",
       "      <td>0.000000</td>\n",
       "      <td>0.000000</td>\n",
       "      <td>1.000000</td>\n",
       "      <td>0.099007</td>\n",
       "    </tr>\n",
       "    <tr>\n",
       "      <th>25%</th>\n",
       "      <td>3994.251794</td>\n",
       "      <td>0.000000</td>\n",
       "      <td>68.000000</td>\n",
       "      <td>6.000000</td>\n",
       "      <td>24.000000</td>\n",
       "      <td>0.000000</td>\n",
       "      <td>1.000000</td>\n",
       "      <td>272.258244</td>\n",
       "    </tr>\n",
       "    <tr>\n",
       "      <th>50%</th>\n",
       "      <td>5780.182197</td>\n",
       "      <td>33889.500000</td>\n",
       "      <td>83.000000</td>\n",
       "      <td>14.000000</td>\n",
       "      <td>48.000000</td>\n",
       "      <td>0.000000</td>\n",
       "      <td>2.000000</td>\n",
       "      <td>383.945434</td>\n",
       "    </tr>\n",
       "    <tr>\n",
       "      <th>75%</th>\n",
       "      <td>8962.167041</td>\n",
       "      <td>62320.000000</td>\n",
       "      <td>109.000000</td>\n",
       "      <td>23.000000</td>\n",
       "      <td>71.000000</td>\n",
       "      <td>0.000000</td>\n",
       "      <td>4.000000</td>\n",
       "      <td>547.514839</td>\n",
       "    </tr>\n",
       "    <tr>\n",
       "      <th>max</th>\n",
       "      <td>83325.381190</td>\n",
       "      <td>99981.000000</td>\n",
       "      <td>298.000000</td>\n",
       "      <td>35.000000</td>\n",
       "      <td>99.000000</td>\n",
       "      <td>5.000000</td>\n",
       "      <td>9.000000</td>\n",
       "      <td>2893.239678</td>\n",
       "    </tr>\n",
       "  </tbody>\n",
       "</table>\n",
       "</div>"
      ],
      "text/plain": [
       "       Customer Lifetime Value        Income  Monthly Premium Auto  \\\n",
       "count              9134.000000   9134.000000           9134.000000   \n",
       "mean               8004.940475  37657.380009             93.219291   \n",
       "std                6870.967608  30379.904734             34.407967   \n",
       "min                1898.007675      0.000000             61.000000   \n",
       "25%                3994.251794      0.000000             68.000000   \n",
       "50%                5780.182197  33889.500000             83.000000   \n",
       "75%                8962.167041  62320.000000            109.000000   \n",
       "max               83325.381190  99981.000000            298.000000   \n",
       "\n",
       "       Months Since Last Claim  Months Since Policy Inception  \\\n",
       "count              9134.000000                    9134.000000   \n",
       "mean                 15.097000                      48.064594   \n",
       "std                  10.073257                      27.905991   \n",
       "min                   0.000000                       0.000000   \n",
       "25%                   6.000000                      24.000000   \n",
       "50%                  14.000000                      48.000000   \n",
       "75%                  23.000000                      71.000000   \n",
       "max                  35.000000                      99.000000   \n",
       "\n",
       "       Number of Open Complaints  Number of Policies  Total Claim Amount  \n",
       "count                9134.000000         9134.000000         9134.000000  \n",
       "mean                    0.384388            2.966170          434.088794  \n",
       "std                     0.910384            2.390182          290.500092  \n",
       "min                     0.000000            1.000000            0.099007  \n",
       "25%                     0.000000            1.000000          272.258244  \n",
       "50%                     0.000000            2.000000          383.945434  \n",
       "75%                     0.000000            4.000000          547.514839  \n",
       "max                     5.000000            9.000000         2893.239678  "
      ]
     },
     "execution_count": 9,
     "metadata": {},
     "output_type": "execute_result"
    }
   ],
   "source": [
    "data.describe()"
   ]
  },
  {
   "cell_type": "code",
   "execution_count": 10,
   "id": "df3c5e83",
   "metadata": {},
   "outputs": [
    {
     "data": {
      "image/png": "[encoded data removed]",
      "text/plain": [
       "<Figure size 1440x1080 with 9 Axes>"
      ]
     },
     "metadata": {
      "needs_background": "light"
     },
     "output_type": "display_data"
    }
   ],
   "source": [
    "data.hist(bins=50, figsize=(20,15))\n",
    "plt.show()"
   ]
  },
  {
   "cell_type": "code",
   "execution_count": 11,
   "id": "5d459434",
   "metadata": {},
   "outputs": [],
   "source": [
    "data.drop(labels='Effective To Date', axis=1,inplace=True)"
   ]
  },
  {
   "cell_type": "code",
   "execution_count": 12,
   "id": "9768db4b",
   "metadata": {},
   "outputs": [
    {
     "name": "stdout",
     "output_type": "stream",
     "text": [
      "Done\n"
     ]
    }
   ],
   "source": [
    "g=data.columns.to_series().groupby(data.dtypes).groups\n",
    "ColumnType ={k.name: v for k, v in g.items()} \n",
    "   \n",
    "print(\"Done\")"
   ]
  },
  {
   "cell_type": "code",
   "execution_count": 13,
   "id": "55447e95",
   "metadata": {},
   "outputs": [],
   "source": [
    "data[\"LTV category\"] = pd.cut(data[\"Customer Lifetime Value\"], bins=[0, 5000, 10000, 20000, float(\"inf\")], labels=['A', 'B', 'C','D'])"
   ]
  },
  {
   "cell_type": "code",
   "execution_count": 15,
   "id": "1f997d98",
   "metadata": {},
   "outputs": [
    {
     "data": {
      "text/plain": [
       "0    0\n",
       "1    1\n",
       "2    2\n",
       "3    1\n",
       "4    0\n",
       "5    1\n",
       "6    1\n",
       "7    1\n",
       "8    3\n",
       "9    1\n",
       "Name: LTV category, dtype: int64"
      ]
     },
     "execution_count": 15,
     "metadata": {},
     "output_type": "execute_result"
    }
   ],
   "source": [
    "y=data[\"LTV category\"].replace(to_replace=['A', 'B', 'C','D'], value=[0,1,2,3])\n",
    "y[0:10]"
   ]
  },
  {
   "cell_type": "code",
   "execution_count": 16,
   "id": "02020fa7",
   "metadata": {},
   "outputs": [],
   "source": [
    "data.drop(labels=\"LTV category\", axis=1,inplace=True)\n",
    "data.drop(labels=\"Customer Lifetime Value\", axis=1,inplace=True)\n",
    "data.drop(labels=\"Customer\", axis=1,inplace=True)"
   ]
  },
  {
   "cell_type": "code",
   "execution_count": 17,
   "id": "f8227457",
   "metadata": {},
   "outputs": [
    {
     "name": "stdout",
     "output_type": "stream",
     "text": [
      "Done\n"
     ]
    }
   ],
   "source": [
    "g=data.columns.to_series().groupby(data.dtypes).groups\n",
    "ColumnType ={k.name: v for k, v in g.items()} \n",
    "   \n",
    "print(\"Done\")"
   ]
  },
  {
   "cell_type": "code",
   "execution_count": 18,
   "id": "f9e2fb79",
   "metadata": {},
   "outputs": [
    {
     "name": "stdout",
     "output_type": "stream",
     "text": [
      "State\n",
      "Response\n",
      "Coverage\n",
      "Education\n",
      "EmploymentStatus\n",
      "Gender\n",
      "Location Code\n",
      "Marital Status\n",
      "Policy Type\n",
      "Policy\n",
      "Renew Offer Type\n",
      "Sales Channel\n",
      "Vehicle Class\n",
      "Vehicle Size\n"
     ]
    },
    {
     "data": {
      "image/png": "[encoded data removed]",
      "text/plain": [
       "<Figure size 648x648 with 1 Axes>"
      ]
     },
     "metadata": {
      "needs_background": "light"
     },
     "output_type": "display_data"
    },
    {
     "data": {
      "image/png": "[encoded data removed]",
      "text/plain": [
       "<Figure size 648x648 with 1 Axes>"
      ]
     },
     "metadata": {
      "needs_background": "light"
     },
     "output_type": "display_data"
    },
    {
     "data": {
      "image/png": "[encoded data removed]",
      "text/plain": [
       "<Figure size 648x648 with 1 Axes>"
      ]
     },
     "metadata": {
      "needs_background": "light"
     },
     "output_type": "display_data"
    },
    {
     "data": {
      "image/png": "[encoded data removed]",
      "text/plain": [
       "<Figure size 648x648 with 1 Axes>"
      ]
     },
     "metadata": {
      "needs_background": "light"
     },
     "output_type": "display_data"
    },
    {
     "data": {
      "image/png": "[encoded data removed]",
      "text/plain": [
       "<Figure size 648x648 with 1 Axes>"
      ]
     },
     "metadata": {
      "needs_background": "light"
     },
     "output_type": "display_data"
    },
    {
     "data": {
      "image/png": "[encoded data removed]",
      "text/plain": [
       "<Figure size 648x648 with 1 Axes>"
      ]
     },
     "metadata": {
      "needs_background": "light"
     },
     "output_type": "display_data"
    },
    {
     "data": {
      "image/png": "[encoded data removed]",
      "text/plain": [
       "<Figure size 648x648 with 1 Axes>"
      ]
     },
     "metadata": {
      "needs_background": "light"
     },
     "output_type": "display_data"
    },
    {
     "data": {
      "image/png": "[encoded data removed]",
      "text/plain": [
       "<Figure size 648x648 with 1 Axes>"
      ]
     },
     "metadata": {
      "needs_background": "light"
     },
     "output_type": "display_data"
    },
    {
     "data": {
      "image/png": "[encoded data removed]",
      "text/plain": [
       "<Figure size 648x648 with 1 Axes>"
      ]
     },
     "metadata": {
      "needs_background": "light"
     },
     "output_type": "display_data"
    },
    {
     "data": {
      "image/png": "[encoded data removed]",
      "text/plain": [
       "<Figure size 648x648 with 1 Axes>"
      ]
     },
     "metadata": {
      "needs_background": "light"
     },
     "output_type": "display_data"
    },
    {
     "data": {
      "image/png": "[encoded data removed]",
      "text/plain": [
       "<Figure size 648x648 with 1 Axes>"
      ]
     },
     "metadata": {
      "needs_background": "light"
     },
     "output_type": "display_data"
    },
    {
     "data": {
      "image/png": "[encoded data removed]",
      "text/plain": [
       "<Figure size 648x648 with 1 Axes>"
      ]
     },
     "metadata": {
      "needs_background": "light"
     },
     "output_type": "display_data"
    },
    {
     "data": {
      "image/png": "[encoded data removed]",
      "text/plain": [
       "<Figure size 648x648 with 1 Axes>"
      ]
     },
     "metadata": {
      "needs_background": "light"
     },
     "output_type": "display_data"
    },
    {
     "data": {
      "image/png": "[encoded data removed]",
      "text/plain": [
       "<Figure size 648x648 with 1 Axes>"
      ]
     },
     "metadata": {
      "needs_background": "light"
     },
     "output_type": "display_data"
    }
   ],
   "source": [
    "for c in ColumnType[ 'object']:\n",
    "    print(c)\n",
    "    fig, ax = plt.subplots()\n",
    "    fig.set_size_inches(9, 9)\n",
    "    ax = sns.countplot(x=c, data=data)"
   ]
  },
  {
   "cell_type": "code",
   "execution_count": 19,
   "id": "cfb3ca7c",
   "metadata": {},
   "outputs": [
    {
     "data": {
      "text/plain": [
       "Index(['State', 'Response', 'Coverage', 'Education', 'EmploymentStatus',\n",
       "       'Gender', 'Location Code', 'Marital Status', 'Policy Type', 'Policy',\n",
       "       'Renew Offer Type', 'Sales Channel', 'Vehicle Class', 'Vehicle Size'],\n",
       "      dtype='object')"
      ]
     },
     "execution_count": 19,
     "metadata": {},
     "output_type": "execute_result"
    }
   ],
   "source": [
    "categorical_features_names=ColumnType['object']\n",
    "categorical_features_names"
   ]
  },
  {
   "cell_type": "code",
   "execution_count": 20,
   "id": "8dad2067",
   "metadata": {},
   "outputs": [
    {
     "data": {
      "text/html": [
       "<div>\n",
       "<style scoped>\n",
       "    .dataframe tbody tr th:only-of-type {\n",
       "        vertical-align: middle;\n",
       "    }\n",
       "\n",
       "    .dataframe tbody tr th {\n",
       "        vertical-align: top;\n",
       "    }\n",
       "\n",
       "    .dataframe thead th {\n",
       "        text-align: right;\n",
       "    }\n",
       "</style>\n",
       "<table border=\"1\" class=\"dataframe\">\n",
       "  <thead>\n",
       "    <tr style=\"text-align: right;\">\n",
       "      <th></th>\n",
       "      <th>State_Arizona</th>\n",
       "      <th>State_California</th>\n",
       "      <th>State_Nevada</th>\n",
       "      <th>State_Oregon</th>\n",
       "      <th>State_Washington</th>\n",
       "      <th>Response_No</th>\n",
       "      <th>Response_Yes</th>\n",
       "      <th>Coverage_Basic</th>\n",
       "      <th>Coverage_Extended</th>\n",
       "      <th>Coverage_Premium</th>\n",
       "      <th>...</th>\n",
       "      <th>Sales Channel_Web</th>\n",
       "      <th>Vehicle Class_Four-Door Car</th>\n",
       "      <th>Vehicle Class_Luxury Car</th>\n",
       "      <th>Vehicle Class_Luxury SUV</th>\n",
       "      <th>Vehicle Class_SUV</th>\n",
       "      <th>Vehicle Class_Sports Car</th>\n",
       "      <th>Vehicle Class_Two-Door Car</th>\n",
       "      <th>Vehicle Size_Large</th>\n",
       "      <th>Vehicle Size_Medsize</th>\n",
       "      <th>Vehicle Size_Small</th>\n",
       "    </tr>\n",
       "  </thead>\n",
       "  <tbody>\n",
       "    <tr>\n",
       "      <th>0</th>\n",
       "      <td>0</td>\n",
       "      <td>0</td>\n",
       "      <td>0</td>\n",
       "      <td>0</td>\n",
       "      <td>1</td>\n",
       "      <td>1</td>\n",
       "      <td>0</td>\n",
       "      <td>1</td>\n",
       "      <td>0</td>\n",
       "      <td>0</td>\n",
       "      <td>...</td>\n",
       "      <td>0</td>\n",
       "      <td>0</td>\n",
       "      <td>0</td>\n",
       "      <td>0</td>\n",
       "      <td>0</td>\n",
       "      <td>0</td>\n",
       "      <td>1</td>\n",
       "      <td>0</td>\n",
       "      <td>1</td>\n",
       "      <td>0</td>\n",
       "    </tr>\n",
       "    <tr>\n",
       "      <th>1</th>\n",
       "      <td>1</td>\n",
       "      <td>0</td>\n",
       "      <td>0</td>\n",
       "      <td>0</td>\n",
       "      <td>0</td>\n",
       "      <td>1</td>\n",
       "      <td>0</td>\n",
       "      <td>0</td>\n",
       "      <td>1</td>\n",
       "      <td>0</td>\n",
       "      <td>...</td>\n",
       "      <td>0</td>\n",
       "      <td>1</td>\n",
       "      <td>0</td>\n",
       "      <td>0</td>\n",
       "      <td>0</td>\n",
       "      <td>0</td>\n",
       "      <td>0</td>\n",
       "      <td>0</td>\n",
       "      <td>1</td>\n",
       "      <td>0</td>\n",
       "    </tr>\n",
       "    <tr>\n",
       "      <th>2</th>\n",
       "      <td>0</td>\n",
       "      <td>0</td>\n",
       "      <td>1</td>\n",
       "      <td>0</td>\n",
       "      <td>0</td>\n",
       "      <td>1</td>\n",
       "      <td>0</td>\n",
       "      <td>0</td>\n",
       "      <td>0</td>\n",
       "      <td>1</td>\n",
       "      <td>...</td>\n",
       "      <td>0</td>\n",
       "      <td>0</td>\n",
       "      <td>0</td>\n",
       "      <td>0</td>\n",
       "      <td>0</td>\n",
       "      <td>0</td>\n",
       "      <td>1</td>\n",
       "      <td>0</td>\n",
       "      <td>1</td>\n",
       "      <td>0</td>\n",
       "    </tr>\n",
       "    <tr>\n",
       "      <th>3</th>\n",
       "      <td>0</td>\n",
       "      <td>1</td>\n",
       "      <td>0</td>\n",
       "      <td>0</td>\n",
       "      <td>0</td>\n",
       "      <td>1</td>\n",
       "      <td>0</td>\n",
       "      <td>1</td>\n",
       "      <td>0</td>\n",
       "      <td>0</td>\n",
       "      <td>...</td>\n",
       "      <td>0</td>\n",
       "      <td>0</td>\n",
       "      <td>0</td>\n",
       "      <td>0</td>\n",
       "      <td>1</td>\n",
       "      <td>0</td>\n",
       "      <td>0</td>\n",
       "      <td>0</td>\n",
       "      <td>1</td>\n",
       "      <td>0</td>\n",
       "    </tr>\n",
       "    <tr>\n",
       "      <th>4</th>\n",
       "      <td>0</td>\n",
       "      <td>0</td>\n",
       "      <td>0</td>\n",
       "      <td>0</td>\n",
       "      <td>1</td>\n",
       "      <td>1</td>\n",
       "      <td>0</td>\n",
       "      <td>1</td>\n",
       "      <td>0</td>\n",
       "      <td>0</td>\n",
       "      <td>...</td>\n",
       "      <td>0</td>\n",
       "      <td>1</td>\n",
       "      <td>0</td>\n",
       "      <td>0</td>\n",
       "      <td>0</td>\n",
       "      <td>0</td>\n",
       "      <td>0</td>\n",
       "      <td>0</td>\n",
       "      <td>1</td>\n",
       "      <td>0</td>\n",
       "    </tr>\n",
       "  </tbody>\n",
       "</table>\n",
       "<p>5 rows × 57 columns</p>\n",
       "</div>"
      ],
      "text/plain": [
       "   State_Arizona  State_California  State_Nevada  State_Oregon  \\\n",
       "0              0                 0             0             0   \n",
       "1              1                 0             0             0   \n",
       "2              0                 0             1             0   \n",
       "3              0                 1             0             0   \n",
       "4              0                 0             0             0   \n",
       "\n",
       "   State_Washington  Response_No  Response_Yes  Coverage_Basic  \\\n",
       "0                 1            1             0               1   \n",
       "1                 0            1             0               0   \n",
       "2                 0            1             0               0   \n",
       "3                 0            1             0               1   \n",
       "4                 1            1             0               1   \n",
       "\n",
       "   Coverage_Extended  Coverage_Premium  ...  Sales Channel_Web  \\\n",
       "0                  0                 0  ...                  0   \n",
       "1                  1                 0  ...                  0   \n",
       "2                  0                 1  ...                  0   \n",
       "3                  0                 0  ...                  0   \n",
       "4                  0                 0  ...                  0   \n",
       "\n",
       "   Vehicle Class_Four-Door Car  Vehicle Class_Luxury Car  \\\n",
       "0                            0                         0   \n",
       "1                            1                         0   \n",
       "2                            0                         0   \n",
       "3                            0                         0   \n",
       "4                            1                         0   \n",
       "\n",
       "   Vehicle Class_Luxury SUV  Vehicle Class_SUV  Vehicle Class_Sports Car  \\\n",
       "0                         0                  0                         0   \n",
       "1                         0                  0                         0   \n",
       "2                         0                  0                         0   \n",
       "3                         0                  1                         0   \n",
       "4                         0                  0                         0   \n",
       "\n",
       "   Vehicle Class_Two-Door Car  Vehicle Size_Large  Vehicle Size_Medsize  \\\n",
       "0                           1                   0                     1   \n",
       "1                           0                   0                     1   \n",
       "2                           1                   0                     1   \n",
       "3                           0                   0                     1   \n",
       "4                           0                   0                     1   \n",
       "\n",
       "   Vehicle Size_Small  \n",
       "0                   0  \n",
       "1                   0  \n",
       "2                   0  \n",
       "3                   0  \n",
       "4                   0  \n",
       "\n",
       "[5 rows x 57 columns]"
      ]
     },
     "execution_count": 20,
     "metadata": {},
     "output_type": "execute_result"
    }
   ],
   "source": [
    "one_hot_categorical=pd.get_dummies(data[ColumnType['object']])\n",
    "one_hot_categorical.head()"
   ]
  },
  {
   "cell_type": "code",
   "execution_count": 21,
   "id": "7e1ef72c",
   "metadata": {},
   "outputs": [
    {
     "data": {
      "text/plain": [
       "(9134, 57)"
      ]
     },
     "execution_count": 21,
     "metadata": {},
     "output_type": "execute_result"
    }
   ],
   "source": [
    "one_hot_categorical.shape\n"
   ]
  },
  {
   "cell_type": "code",
   "execution_count": 22,
   "id": "6d0ec98b",
   "metadata": {},
   "outputs": [
    {
     "data": {
      "text/plain": [
       "['Income',\n",
       " 'Monthly Premium Auto',\n",
       " 'Months Since Last Claim',\n",
       " 'Months Since Policy Inception',\n",
       " 'Number of Open Complaints',\n",
       " 'Number of Policies',\n",
       " 'Total Claim Amount']"
      ]
     },
     "execution_count": 22,
     "metadata": {},
     "output_type": "execute_result"
    }
   ],
   "source": [
    "list_numerical_features=list(ColumnType['int64'])+list(ColumnType['float64'])\n",
    "list_numerical_features"
   ]
  },
  {
   "cell_type": "code",
   "execution_count": 23,
   "id": "a5638acf",
   "metadata": {},
   "outputs": [
    {
     "data": {
      "text/html": [
       "<div>\n",
       "<style scoped>\n",
       "    .dataframe tbody tr th:only-of-type {\n",
       "        vertical-align: middle;\n",
       "    }\n",
       "\n",
       "    .dataframe tbody tr th {\n",
       "        vertical-align: top;\n",
       "    }\n",
       "\n",
       "    .dataframe thead th {\n",
       "        text-align: right;\n",
       "    }\n",
       "</style>\n",
       "<table border=\"1\" class=\"dataframe\">\n",
       "  <thead>\n",
       "    <tr style=\"text-align: right;\">\n",
       "      <th></th>\n",
       "      <th>Income</th>\n",
       "      <th>Monthly Premium Auto</th>\n",
       "      <th>Months Since Last Claim</th>\n",
       "      <th>Months Since Policy Inception</th>\n",
       "      <th>Number of Open Complaints</th>\n",
       "      <th>Number of Policies</th>\n",
       "      <th>Total Claim Amount</th>\n",
       "    </tr>\n",
       "  </thead>\n",
       "  <tbody>\n",
       "    <tr>\n",
       "      <th>0</th>\n",
       "      <td>56274</td>\n",
       "      <td>69</td>\n",
       "      <td>32</td>\n",
       "      <td>5</td>\n",
       "      <td>0</td>\n",
       "      <td>1</td>\n",
       "      <td>384.811147</td>\n",
       "    </tr>\n",
       "    <tr>\n",
       "      <th>1</th>\n",
       "      <td>0</td>\n",
       "      <td>94</td>\n",
       "      <td>13</td>\n",
       "      <td>42</td>\n",
       "      <td>0</td>\n",
       "      <td>8</td>\n",
       "      <td>1131.464935</td>\n",
       "    </tr>\n",
       "    <tr>\n",
       "      <th>2</th>\n",
       "      <td>48767</td>\n",
       "      <td>108</td>\n",
       "      <td>18</td>\n",
       "      <td>38</td>\n",
       "      <td>0</td>\n",
       "      <td>2</td>\n",
       "      <td>566.472247</td>\n",
       "    </tr>\n",
       "    <tr>\n",
       "      <th>3</th>\n",
       "      <td>0</td>\n",
       "      <td>106</td>\n",
       "      <td>18</td>\n",
       "      <td>65</td>\n",
       "      <td>0</td>\n",
       "      <td>7</td>\n",
       "      <td>529.881344</td>\n",
       "    </tr>\n",
       "    <tr>\n",
       "      <th>4</th>\n",
       "      <td>43836</td>\n",
       "      <td>73</td>\n",
       "      <td>12</td>\n",
       "      <td>44</td>\n",
       "      <td>0</td>\n",
       "      <td>1</td>\n",
       "      <td>138.130879</td>\n",
       "    </tr>\n",
       "  </tbody>\n",
       "</table>\n",
       "</div>"
      ],
      "text/plain": [
       "   Income  Monthly Premium Auto  Months Since Last Claim  \\\n",
       "0   56274                    69                       32   \n",
       "1       0                    94                       13   \n",
       "2   48767                   108                       18   \n",
       "3       0                   106                       18   \n",
       "4   43836                    73                       12   \n",
       "\n",
       "   Months Since Policy Inception  Number of Open Complaints  \\\n",
       "0                              5                          0   \n",
       "1                             42                          0   \n",
       "2                             38                          0   \n",
       "3                             65                          0   \n",
       "4                             44                          0   \n",
       "\n",
       "   Number of Policies  Total Claim Amount  \n",
       "0                   1          384.811147  \n",
       "1                   8         1131.464935  \n",
       "2                   2          566.472247  \n",
       "3                   7          529.881344  \n",
       "4                   1          138.130879  "
      ]
     },
     "execution_count": 23,
     "metadata": {},
     "output_type": "execute_result"
    }
   ],
   "source": [
    "numerical_features=data[list_numerical_features]\n",
    "numerical_features.head()"
   ]
  },
  {
   "cell_type": "code",
   "execution_count": 24,
   "id": "5920c1b3",
   "metadata": {},
   "outputs": [
    {
     "data": {
      "text/html": [
       "<div>\n",
       "<style scoped>\n",
       "    .dataframe tbody tr th:only-of-type {\n",
       "        vertical-align: middle;\n",
       "    }\n",
       "\n",
       "    .dataframe tbody tr th {\n",
       "        vertical-align: top;\n",
       "    }\n",
       "\n",
       "    .dataframe thead th {\n",
       "        text-align: right;\n",
       "    }\n",
       "</style>\n",
       "<table border=\"1\" class=\"dataframe\">\n",
       "  <thead>\n",
       "    <tr style=\"text-align: right;\">\n",
       "      <th></th>\n",
       "      <th>Income</th>\n",
       "      <th>Monthly Premium Auto</th>\n",
       "      <th>Months Since Last Claim</th>\n",
       "      <th>Months Since Policy Inception</th>\n",
       "      <th>Number of Open Complaints</th>\n",
       "      <th>Number of Policies</th>\n",
       "      <th>Total Claim Amount</th>\n",
       "      <th>State_Arizona</th>\n",
       "      <th>State_California</th>\n",
       "      <th>State_Nevada</th>\n",
       "      <th>...</th>\n",
       "      <th>Sales Channel_Web</th>\n",
       "      <th>Vehicle Class_Four-Door Car</th>\n",
       "      <th>Vehicle Class_Luxury Car</th>\n",
       "      <th>Vehicle Class_Luxury SUV</th>\n",
       "      <th>Vehicle Class_SUV</th>\n",
       "      <th>Vehicle Class_Sports Car</th>\n",
       "      <th>Vehicle Class_Two-Door Car</th>\n",
       "      <th>Vehicle Size_Large</th>\n",
       "      <th>Vehicle Size_Medsize</th>\n",
       "      <th>Vehicle Size_Small</th>\n",
       "    </tr>\n",
       "  </thead>\n",
       "  <tbody>\n",
       "    <tr>\n",
       "      <th>0</th>\n",
       "      <td>56274</td>\n",
       "      <td>69</td>\n",
       "      <td>32</td>\n",
       "      <td>5</td>\n",
       "      <td>0</td>\n",
       "      <td>1</td>\n",
       "      <td>384.811147</td>\n",
       "      <td>0</td>\n",
       "      <td>0</td>\n",
       "      <td>0</td>\n",
       "      <td>...</td>\n",
       "      <td>0</td>\n",
       "      <td>0</td>\n",
       "      <td>0</td>\n",
       "      <td>0</td>\n",
       "      <td>0</td>\n",
       "      <td>0</td>\n",
       "      <td>1</td>\n",
       "      <td>0</td>\n",
       "      <td>1</td>\n",
       "      <td>0</td>\n",
       "    </tr>\n",
       "    <tr>\n",
       "      <th>1</th>\n",
       "      <td>0</td>\n",
       "      <td>94</td>\n",
       "      <td>13</td>\n",
       "      <td>42</td>\n",
       "      <td>0</td>\n",
       "      <td>8</td>\n",
       "      <td>1131.464935</td>\n",
       "      <td>1</td>\n",
       "      <td>0</td>\n",
       "      <td>0</td>\n",
       "      <td>...</td>\n",
       "      <td>0</td>\n",
       "      <td>1</td>\n",
       "      <td>0</td>\n",
       "      <td>0</td>\n",
       "      <td>0</td>\n",
       "      <td>0</td>\n",
       "      <td>0</td>\n",
       "      <td>0</td>\n",
       "      <td>1</td>\n",
       "      <td>0</td>\n",
       "    </tr>\n",
       "    <tr>\n",
       "      <th>2</th>\n",
       "      <td>48767</td>\n",
       "      <td>108</td>\n",
       "      <td>18</td>\n",
       "      <td>38</td>\n",
       "      <td>0</td>\n",
       "      <td>2</td>\n",
       "      <td>566.472247</td>\n",
       "      <td>0</td>\n",
       "      <td>0</td>\n",
       "      <td>1</td>\n",
       "      <td>...</td>\n",
       "      <td>0</td>\n",
       "      <td>0</td>\n",
       "      <td>0</td>\n",
       "      <td>0</td>\n",
       "      <td>0</td>\n",
       "      <td>0</td>\n",
       "      <td>1</td>\n",
       "      <td>0</td>\n",
       "      <td>1</td>\n",
       "      <td>0</td>\n",
       "    </tr>\n",
       "    <tr>\n",
       "      <th>3</th>\n",
       "      <td>0</td>\n",
       "      <td>106</td>\n",
       "      <td>18</td>\n",
       "      <td>65</td>\n",
       "      <td>0</td>\n",
       "      <td>7</td>\n",
       "      <td>529.881344</td>\n",
       "      <td>0</td>\n",
       "      <td>1</td>\n",
       "      <td>0</td>\n",
       "      <td>...</td>\n",
       "      <td>0</td>\n",
       "      <td>0</td>\n",
       "      <td>0</td>\n",
       "      <td>0</td>\n",
       "      <td>1</td>\n",
       "      <td>0</td>\n",
       "      <td>0</td>\n",
       "      <td>0</td>\n",
       "      <td>1</td>\n",
       "      <td>0</td>\n",
       "    </tr>\n",
       "    <tr>\n",
       "      <th>4</th>\n",
       "      <td>43836</td>\n",
       "      <td>73</td>\n",
       "      <td>12</td>\n",
       "      <td>44</td>\n",
       "      <td>0</td>\n",
       "      <td>1</td>\n",
       "      <td>138.130879</td>\n",
       "      <td>0</td>\n",
       "      <td>0</td>\n",
       "      <td>0</td>\n",
       "      <td>...</td>\n",
       "      <td>0</td>\n",
       "      <td>1</td>\n",
       "      <td>0</td>\n",
       "      <td>0</td>\n",
       "      <td>0</td>\n",
       "      <td>0</td>\n",
       "      <td>0</td>\n",
       "      <td>0</td>\n",
       "      <td>1</td>\n",
       "      <td>0</td>\n",
       "    </tr>\n",
       "  </tbody>\n",
       "</table>\n",
       "<p>5 rows × 64 columns</p>\n",
       "</div>"
      ],
      "text/plain": [
       "   Income  Monthly Premium Auto  Months Since Last Claim  \\\n",
       "0   56274                    69                       32   \n",
       "1       0                    94                       13   \n",
       "2   48767                   108                       18   \n",
       "3       0                   106                       18   \n",
       "4   43836                    73                       12   \n",
       "\n",
       "   Months Since Policy Inception  Number of Open Complaints  \\\n",
       "0                              5                          0   \n",
       "1                             42                          0   \n",
       "2                             38                          0   \n",
       "3                             65                          0   \n",
       "4                             44                          0   \n",
       "\n",
       "   Number of Policies  Total Claim Amount  State_Arizona  State_California  \\\n",
       "0                   1          384.811147              0                 0   \n",
       "1                   8         1131.464935              1                 0   \n",
       "2                   2          566.472247              0                 0   \n",
       "3                   7          529.881344              0                 1   \n",
       "4                   1          138.130879              0                 0   \n",
       "\n",
       "   State_Nevada  ...  Sales Channel_Web  Vehicle Class_Four-Door Car  \\\n",
       "0             0  ...                  0                            0   \n",
       "1             0  ...                  0                            1   \n",
       "2             1  ...                  0                            0   \n",
       "3             0  ...                  0                            0   \n",
       "4             0  ...                  0                            1   \n",
       "\n",
       "   Vehicle Class_Luxury Car  Vehicle Class_Luxury SUV  Vehicle Class_SUV  \\\n",
       "0                         0                         0                  0   \n",
       "1                         0                         0                  0   \n",
       "2                         0                         0                  0   \n",
       "3                         0                         0                  1   \n",
       "4                         0                         0                  0   \n",
       "\n",
       "   Vehicle Class_Sports Car  Vehicle Class_Two-Door Car  Vehicle Size_Large  \\\n",
       "0                         0                           1                   0   \n",
       "1                         0                           0                   0   \n",
       "2                         0                           1                   0   \n",
       "3                         0                           0                   0   \n",
       "4                         0                           0                   0   \n",
       "\n",
       "   Vehicle Size_Medsize  Vehicle Size_Small  \n",
       "0                     1                   0  \n",
       "1                     1                   0  \n",
       "2                     1                   0  \n",
       "3                     1                   0  \n",
       "4                     1                   0  \n",
       "\n",
       "[5 rows x 64 columns]"
      ]
     },
     "execution_count": 24,
     "metadata": {},
     "output_type": "execute_result"
    }
   ],
   "source": [
    "X=pd.concat([numerical_features, one_hot_categorical], axis=1)\n",
    "X.head()  "
   ]
  },
  {
   "cell_type": "code",
   "execution_count": 25,
   "id": "6bb716b2",
   "metadata": {},
   "outputs": [],
   "source": [
    "def Norm(x):\n",
    "    return((x-x.mean())/x.std())"
   ]
  },
  {
   "cell_type": "code",
   "execution_count": 26,
   "id": "d3bdb534",
   "metadata": {},
   "outputs": [
    {
     "data": {
      "text/html": [
       "<div>\n",
       "<style scoped>\n",
       "    .dataframe tbody tr th:only-of-type {\n",
       "        vertical-align: middle;\n",
       "    }\n",
       "\n",
       "    .dataframe tbody tr th {\n",
       "        vertical-align: top;\n",
       "    }\n",
       "\n",
       "    .dataframe thead th {\n",
       "        text-align: right;\n",
       "    }\n",
       "</style>\n",
       "<table border=\"1\" class=\"dataframe\">\n",
       "  <thead>\n",
       "    <tr style=\"text-align: right;\">\n",
       "      <th></th>\n",
       "      <th>Income</th>\n",
       "      <th>Monthly Premium Auto</th>\n",
       "      <th>Months Since Last Claim</th>\n",
       "      <th>Months Since Policy Inception</th>\n",
       "      <th>Number of Open Complaints</th>\n",
       "      <th>Number of Policies</th>\n",
       "      <th>Total Claim Amount</th>\n",
       "      <th>State_Arizona</th>\n",
       "      <th>State_California</th>\n",
       "      <th>State_Nevada</th>\n",
       "      <th>...</th>\n",
       "      <th>Sales Channel_Web</th>\n",
       "      <th>Vehicle Class_Four-Door Car</th>\n",
       "      <th>Vehicle Class_Luxury Car</th>\n",
       "      <th>Vehicle Class_Luxury SUV</th>\n",
       "      <th>Vehicle Class_SUV</th>\n",
       "      <th>Vehicle Class_Sports Car</th>\n",
       "      <th>Vehicle Class_Two-Door Car</th>\n",
       "      <th>Vehicle Size_Large</th>\n",
       "      <th>Vehicle Size_Medsize</th>\n",
       "      <th>Vehicle Size_Small</th>\n",
       "    </tr>\n",
       "  </thead>\n",
       "  <tbody>\n",
       "    <tr>\n",
       "      <th>0</th>\n",
       "      <td>0.612794</td>\n",
       "      <td>-0.703886</td>\n",
       "      <td>1.678007</td>\n",
       "      <td>-1.543202</td>\n",
       "      <td>-0.422226</td>\n",
       "      <td>-0.822603</td>\n",
       "      <td>-0.169630</td>\n",
       "      <td>-0.478696</td>\n",
       "      <td>-0.725497</td>\n",
       "      <td>-0.326912</td>\n",
       "      <td>...</td>\n",
       "      <td>-0.411895</td>\n",
       "      <td>-1.011839</td>\n",
       "      <td>-0.134787</td>\n",
       "      <td>-0.143375</td>\n",
       "      <td>-0.494698</td>\n",
       "      <td>-0.236533</td>\n",
       "      <td>1.960264</td>\n",
       "      <td>-0.339886</td>\n",
       "      <td>0.649469</td>\n",
       "      <td>-0.489206</td>\n",
       "    </tr>\n",
       "    <tr>\n",
       "      <th>1</th>\n",
       "      <td>-1.239549</td>\n",
       "      <td>0.022690</td>\n",
       "      <td>-0.208175</td>\n",
       "      <td>-0.217322</td>\n",
       "      <td>-0.422226</td>\n",
       "      <td>2.106045</td>\n",
       "      <td>2.400606</td>\n",
       "      <td>2.088779</td>\n",
       "      <td>-0.725497</td>\n",
       "      <td>-0.326912</td>\n",
       "      <td>...</td>\n",
       "      <td>-0.411895</td>\n",
       "      <td>0.988191</td>\n",
       "      <td>-0.134787</td>\n",
       "      <td>-0.143375</td>\n",
       "      <td>-0.494698</td>\n",
       "      <td>-0.236533</td>\n",
       "      <td>-0.510080</td>\n",
       "      <td>-0.339886</td>\n",
       "      <td>0.649469</td>\n",
       "      <td>-0.489206</td>\n",
       "    </tr>\n",
       "    <tr>\n",
       "      <th>2</th>\n",
       "      <td>0.365690</td>\n",
       "      <td>0.429572</td>\n",
       "      <td>0.288189</td>\n",
       "      <td>-0.360661</td>\n",
       "      <td>-0.422226</td>\n",
       "      <td>-0.404225</td>\n",
       "      <td>0.455709</td>\n",
       "      <td>-0.478696</td>\n",
       "      <td>-0.725497</td>\n",
       "      <td>3.058592</td>\n",
       "      <td>...</td>\n",
       "      <td>-0.411895</td>\n",
       "      <td>-1.011839</td>\n",
       "      <td>-0.134787</td>\n",
       "      <td>-0.143375</td>\n",
       "      <td>-0.494698</td>\n",
       "      <td>-0.236533</td>\n",
       "      <td>1.960264</td>\n",
       "      <td>-0.339886</td>\n",
       "      <td>0.649469</td>\n",
       "      <td>-0.489206</td>\n",
       "    </tr>\n",
       "    <tr>\n",
       "      <th>3</th>\n",
       "      <td>-1.239549</td>\n",
       "      <td>0.371446</td>\n",
       "      <td>0.288189</td>\n",
       "      <td>0.606873</td>\n",
       "      <td>-0.422226</td>\n",
       "      <td>1.687666</td>\n",
       "      <td>0.329750</td>\n",
       "      <td>-0.478696</td>\n",
       "      <td>1.378214</td>\n",
       "      <td>-0.326912</td>\n",
       "      <td>...</td>\n",
       "      <td>-0.411895</td>\n",
       "      <td>-1.011839</td>\n",
       "      <td>-0.134787</td>\n",
       "      <td>-0.143375</td>\n",
       "      <td>2.021212</td>\n",
       "      <td>-0.236533</td>\n",
       "      <td>-0.510080</td>\n",
       "      <td>-0.339886</td>\n",
       "      <td>0.649469</td>\n",
       "      <td>-0.489206</td>\n",
       "    </tr>\n",
       "    <tr>\n",
       "      <th>4</th>\n",
       "      <td>0.203379</td>\n",
       "      <td>-0.587634</td>\n",
       "      <td>-0.307448</td>\n",
       "      <td>-0.145653</td>\n",
       "      <td>-0.422226</td>\n",
       "      <td>-0.822603</td>\n",
       "      <td>-1.018788</td>\n",
       "      <td>-0.478696</td>\n",
       "      <td>-0.725497</td>\n",
       "      <td>-0.326912</td>\n",
       "      <td>...</td>\n",
       "      <td>-0.411895</td>\n",
       "      <td>0.988191</td>\n",
       "      <td>-0.134787</td>\n",
       "      <td>-0.143375</td>\n",
       "      <td>-0.494698</td>\n",
       "      <td>-0.236533</td>\n",
       "      <td>-0.510080</td>\n",
       "      <td>-0.339886</td>\n",
       "      <td>0.649469</td>\n",
       "      <td>-0.489206</td>\n",
       "    </tr>\n",
       "    <tr>\n",
       "      <th>...</th>\n",
       "      <td>...</td>\n",
       "      <td>...</td>\n",
       "      <td>...</td>\n",
       "      <td>...</td>\n",
       "      <td>...</td>\n",
       "      <td>...</td>\n",
       "      <td>...</td>\n",
       "      <td>...</td>\n",
       "      <td>...</td>\n",
       "      <td>...</td>\n",
       "      <td>...</td>\n",
       "      <td>...</td>\n",
       "      <td>...</td>\n",
       "      <td>...</td>\n",
       "      <td>...</td>\n",
       "      <td>...</td>\n",
       "      <td>...</td>\n",
       "      <td>...</td>\n",
       "      <td>...</td>\n",
       "      <td>...</td>\n",
       "      <td>...</td>\n",
       "    </tr>\n",
       "    <tr>\n",
       "      <th>9129</th>\n",
       "      <td>1.128497</td>\n",
       "      <td>-0.587634</td>\n",
       "      <td>0.288189</td>\n",
       "      <td>1.466904</td>\n",
       "      <td>-0.422226</td>\n",
       "      <td>-0.404225</td>\n",
       "      <td>-0.811890</td>\n",
       "      <td>-0.478696</td>\n",
       "      <td>1.378214</td>\n",
       "      <td>-0.326912</td>\n",
       "      <td>...</td>\n",
       "      <td>2.427538</td>\n",
       "      <td>0.988191</td>\n",
       "      <td>-0.134787</td>\n",
       "      <td>-0.143375</td>\n",
       "      <td>-0.494698</td>\n",
       "      <td>-0.236533</td>\n",
       "      <td>-0.510080</td>\n",
       "      <td>-0.339886</td>\n",
       "      <td>0.649469</td>\n",
       "      <td>-0.489206</td>\n",
       "    </tr>\n",
       "    <tr>\n",
       "      <th>9130</th>\n",
       "      <td>-0.528421</td>\n",
       "      <td>-0.413256</td>\n",
       "      <td>-0.108902</td>\n",
       "      <td>-0.719007</td>\n",
       "      <td>-0.422226</td>\n",
       "      <td>-0.822603</td>\n",
       "      <td>-0.188946</td>\n",
       "      <td>-0.478696</td>\n",
       "      <td>1.378214</td>\n",
       "      <td>-0.326912</td>\n",
       "      <td>...</td>\n",
       "      <td>-0.411895</td>\n",
       "      <td>0.988191</td>\n",
       "      <td>-0.134787</td>\n",
       "      <td>-0.143375</td>\n",
       "      <td>-0.494698</td>\n",
       "      <td>-0.236533</td>\n",
       "      <td>-0.510080</td>\n",
       "      <td>-0.339886</td>\n",
       "      <td>0.649469</td>\n",
       "      <td>-0.489206</td>\n",
       "    </tr>\n",
       "    <tr>\n",
       "      <th>9131</th>\n",
       "      <td>-1.239549</td>\n",
       "      <td>-0.238878</td>\n",
       "      <td>-0.605266</td>\n",
       "      <td>-0.396495</td>\n",
       "      <td>2.873088</td>\n",
       "      <td>-0.404225</td>\n",
       "      <td>1.227869</td>\n",
       "      <td>-0.478696</td>\n",
       "      <td>1.378214</td>\n",
       "      <td>-0.326912</td>\n",
       "      <td>...</td>\n",
       "      <td>-0.411895</td>\n",
       "      <td>0.988191</td>\n",
       "      <td>-0.134787</td>\n",
       "      <td>-0.143375</td>\n",
       "      <td>-0.494698</td>\n",
       "      <td>-0.236533</td>\n",
       "      <td>-0.510080</td>\n",
       "      <td>-0.339886</td>\n",
       "      <td>0.649469</td>\n",
       "      <td>-0.489206</td>\n",
       "    </tr>\n",
       "    <tr>\n",
       "      <th>9132</th>\n",
       "      <td>-0.517328</td>\n",
       "      <td>0.080816</td>\n",
       "      <td>1.876553</td>\n",
       "      <td>-1.614872</td>\n",
       "      <td>-0.422226</td>\n",
       "      <td>0.014154</td>\n",
       "      <td>0.885064</td>\n",
       "      <td>-0.478696</td>\n",
       "      <td>1.378214</td>\n",
       "      <td>-0.326912</td>\n",
       "      <td>...</td>\n",
       "      <td>-0.411895</td>\n",
       "      <td>0.988191</td>\n",
       "      <td>-0.134787</td>\n",
       "      <td>-0.143375</td>\n",
       "      <td>-0.494698</td>\n",
       "      <td>-0.236533</td>\n",
       "      <td>-0.510080</td>\n",
       "      <td>2.941844</td>\n",
       "      <td>-1.539552</td>\n",
       "      <td>-0.489206</td>\n",
       "    </tr>\n",
       "    <tr>\n",
       "      <th>9133</th>\n",
       "      <td>-1.239549</td>\n",
       "      <td>-0.471382</td>\n",
       "      <td>-1.200903</td>\n",
       "      <td>1.502738</td>\n",
       "      <td>-0.422226</td>\n",
       "      <td>-0.822603</td>\n",
       "      <td>-0.221992</td>\n",
       "      <td>-0.478696</td>\n",
       "      <td>1.378214</td>\n",
       "      <td>-0.326912</td>\n",
       "      <td>...</td>\n",
       "      <td>-0.411895</td>\n",
       "      <td>-1.011839</td>\n",
       "      <td>-0.134787</td>\n",
       "      <td>-0.143375</td>\n",
       "      <td>-0.494698</td>\n",
       "      <td>-0.236533</td>\n",
       "      <td>1.960264</td>\n",
       "      <td>-0.339886</td>\n",
       "      <td>0.649469</td>\n",
       "      <td>-0.489206</td>\n",
       "    </tr>\n",
       "  </tbody>\n",
       "</table>\n",
       "<p>9134 rows × 64 columns</p>\n",
       "</div>"
      ],
      "text/plain": [
       "        Income  Monthly Premium Auto  Months Since Last Claim  \\\n",
       "0     0.612794             -0.703886                 1.678007   \n",
       "1    -1.239549              0.022690                -0.208175   \n",
       "2     0.365690              0.429572                 0.288189   \n",
       "3    -1.239549              0.371446                 0.288189   \n",
       "4     0.203379             -0.587634                -0.307448   \n",
       "...        ...                   ...                      ...   \n",
       "9129  1.128497             -0.587634                 0.288189   \n",
       "9130 -0.528421             -0.413256                -0.108902   \n",
       "9131 -1.239549             -0.238878                -0.605266   \n",
       "9132 -0.517328              0.080816                 1.876553   \n",
       "9133 -1.239549             -0.471382                -1.200903   \n",
       "\n",
       "      Months Since Policy Inception  Number of Open Complaints  \\\n",
       "0                         -1.543202                  -0.422226   \n",
       "1                         -0.217322                  -0.422226   \n",
       "2                         -0.360661                  -0.422226   \n",
       "3                          0.606873                  -0.422226   \n",
       "4                         -0.145653                  -0.422226   \n",
       "...                             ...                        ...   \n",
       "9129                       1.466904                  -0.422226   \n",
       "9130                      -0.719007                  -0.422226   \n",
       "9131                      -0.396495                   2.873088   \n",
       "9132                      -1.614872                  -0.422226   \n",
       "9133                       1.502738                  -0.422226   \n",
       "\n",
       "      Number of Policies  Total Claim Amount  State_Arizona  State_California  \\\n",
       "0              -0.822603           -0.169630      -0.478696         -0.725497   \n",
       "1               2.106045            2.400606       2.088779         -0.725497   \n",
       "2              -0.404225            0.455709      -0.478696         -0.725497   \n",
       "3               1.687666            0.329750      -0.478696          1.378214   \n",
       "4              -0.822603           -1.018788      -0.478696         -0.725497   \n",
       "...                  ...                 ...            ...               ...   \n",
       "9129           -0.404225           -0.811890      -0.478696          1.378214   \n",
       "9130           -0.822603           -0.188946      -0.478696          1.378214   \n",
       "9131           -0.404225            1.227869      -0.478696          1.378214   \n",
       "9132            0.014154            0.885064      -0.478696          1.378214   \n",
       "9133           -0.822603           -0.221992      -0.478696          1.378214   \n",
       "\n",
       "      State_Nevada  ...  Sales Channel_Web  Vehicle Class_Four-Door Car  \\\n",
       "0        -0.326912  ...          -0.411895                    -1.011839   \n",
       "1        -0.326912  ...          -0.411895                     0.988191   \n",
       "2         3.058592  ...          -0.411895                    -1.011839   \n",
       "3        -0.326912  ...          -0.411895                    -1.011839   \n",
       "4        -0.326912  ...          -0.411895                     0.988191   \n",
       "...            ...  ...                ...                          ...   \n",
       "9129     -0.326912  ...           2.427538                     0.988191   \n",
       "9130     -0.326912  ...          -0.411895                     0.988191   \n",
       "9131     -0.326912  ...          -0.411895                     0.988191   \n",
       "9132     -0.326912  ...          -0.411895                     0.988191   \n",
       "9133     -0.326912  ...          -0.411895                    -1.011839   \n",
       "\n",
       "      Vehicle Class_Luxury Car  Vehicle Class_Luxury SUV  Vehicle Class_SUV  \\\n",
       "0                    -0.134787                 -0.143375          -0.494698   \n",
       "1                    -0.134787                 -0.143375          -0.494698   \n",
       "2                    -0.134787                 -0.143375          -0.494698   \n",
       "3                    -0.134787                 -0.143375           2.021212   \n",
       "4                    -0.134787                 -0.143375          -0.494698   \n",
       "...                        ...                       ...                ...   \n",
       "9129                 -0.134787                 -0.143375          -0.494698   \n",
       "9130                 -0.134787                 -0.143375          -0.494698   \n",
       "9131                 -0.134787                 -0.143375          -0.494698   \n",
       "9132                 -0.134787                 -0.143375          -0.494698   \n",
       "9133                 -0.134787                 -0.143375          -0.494698   \n",
       "\n",
       "      Vehicle Class_Sports Car  Vehicle Class_Two-Door Car  \\\n",
       "0                    -0.236533                    1.960264   \n",
       "1                    -0.236533                   -0.510080   \n",
       "2                    -0.236533                    1.960264   \n",
       "3                    -0.236533                   -0.510080   \n",
       "4                    -0.236533                   -0.510080   \n",
       "...                        ...                         ...   \n",
       "9129                 -0.236533                   -0.510080   \n",
       "9130                 -0.236533                   -0.510080   \n",
       "9131                 -0.236533                   -0.510080   \n",
       "9132                 -0.236533                   -0.510080   \n",
       "9133                 -0.236533                    1.960264   \n",
       "\n",
       "      Vehicle Size_Large  Vehicle Size_Medsize  Vehicle Size_Small  \n",
       "0              -0.339886              0.649469           -0.489206  \n",
       "1              -0.339886              0.649469           -0.489206  \n",
       "2              -0.339886              0.649469           -0.489206  \n",
       "3              -0.339886              0.649469           -0.489206  \n",
       "4              -0.339886              0.649469           -0.489206  \n",
       "...                  ...                   ...                 ...  \n",
       "9129           -0.339886              0.649469           -0.489206  \n",
       "9130           -0.339886              0.649469           -0.489206  \n",
       "9131           -0.339886              0.649469           -0.489206  \n",
       "9132            2.941844             -1.539552           -0.489206  \n",
       "9133           -0.339886              0.649469           -0.489206  \n",
       "\n",
       "[9134 rows x 64 columns]"
      ]
     },
     "execution_count": 26,
     "metadata": {},
     "output_type": "execute_result"
    }
   ],
   "source": [
    "X=X.apply(Norm)\n",
    "X"
   ]
  },
  {
   "cell_type": "code",
   "execution_count": 27,
   "id": "2bfbf8bf",
   "metadata": {},
   "outputs": [
    {
     "name": "stdout",
     "output_type": "stream",
     "text": [
      "imported train_test_split \n"
     ]
    }
   ],
   "source": [
    "from sklearn.model_selection import train_test_split\n",
    "print(\"imported train_test_split \")"
   ]
  },
  {
   "cell_type": "code",
   "execution_count": 28,
   "id": "2597084c",
   "metadata": {},
   "outputs": [
    {
     "name": "stdout",
     "output_type": "stream",
     "text": [
      "training data size: 7307\n",
      "testing data size: 1827\n"
     ]
    }
   ],
   "source": [
    "X_train, X_test, y_train, y_test = train_test_split(X, y, test_size=0.2,random_state=0)\n",
    "print('training data size:',X_train.shape[0])\n",
    "print('testing data size:',X_test.shape[0])"
   ]
  },
  {
   "cell_type": "markdown",
   "id": "3752c900",
   "metadata": {},
   "source": [
    "# KNN"
   ]
  },
  {
   "cell_type": "code",
   "execution_count": 30,
   "id": "b479ab63",
   "metadata": {},
   "outputs": [
    {
     "name": "stdout",
     "output_type": "stream",
     "text": [
      "imported \n"
     ]
    }
   ],
   "source": [
    "from sklearn.neighbors import KNeighborsClassifier\n",
    "print('imported ')"
   ]
  },
  {
   "cell_type": "code",
   "execution_count": 31,
   "id": "f2ebb624",
   "metadata": {},
   "outputs": [
    {
     "name": "stdout",
     "output_type": "stream",
     "text": [
      "the best K value is: 75 ,  the best accuracy for the validation data is: 0.5867542419266557\n"
     ]
    }
   ],
   "source": [
    "\n",
    "\n",
    "accP = 0\n",
    "bestk = 1\n",
    "for k in range(1,100):\n",
    "    KNN= KNeighborsClassifier(n_neighbors=k,algorithm = 'kd_tree')\n",
    "    KNN.fit(X_train,y_train)\n",
    "    yhat=KNN.predict(X_test)\n",
    "    acc = np.mean(yhat==y_test)\n",
    "\n",
    "    if acc > accP:\n",
    "        accP = acc\n",
    "        bestK = k\n",
    "        \n",
    "\n",
    "\n",
    "print(\"the best K value is:\",bestK,\", \",\"the best accuracy for the validation data is:\", accP)\n"
   ]
  },
  {
   "cell_type": "code",
   "execution_count": 32,
   "id": "52fa5876",
   "metadata": {},
   "outputs": [
    {
     "data": {
      "text/plain": [
       "array([1, 0, 1, 1, 0], dtype=int64)"
      ]
     },
     "execution_count": 32,
     "metadata": {},
     "output_type": "execute_result"
    }
   ],
   "source": [
    "k = 75\n",
    "KNN= KNeighborsClassifier(n_neighbors=k,algorithm = 'kd_tree')\n",
    "KNN\n",
    "\n",
    "\n",
    "# this is where we train the model \n",
    "KNN.fit(X_train,y_train)\n",
    "\n",
    "# this is where we make the prediction  \n",
    "yhat=KNN.predict(X_test)\n",
    "\n",
    "yhat[0:5]"
   ]
  },
  {
   "cell_type": "code",
   "execution_count": 33,
   "id": "16da3bb0",
   "metadata": {},
   "outputs": [
    {
     "name": "stdout",
     "output_type": "stream",
     "text": [
      "imported \n"
     ]
    }
   ],
   "source": [
    "from sklearn.metrics import confusion_matrix\n",
    "print('imported ')"
   ]
  },
  {
   "cell_type": "code",
   "execution_count": 34,
   "id": "c3fe053e",
   "metadata": {},
   "outputs": [],
   "source": [
    "target_names = [\"A\",\"B\",\"C\",\"D\"]"
   ]
  },
  {
   "cell_type": "code",
   "execution_count": 35,
   "id": "8b92ac0a",
   "metadata": {},
   "outputs": [
    {
     "name": "stdout",
     "output_type": "stream",
     "text": [
      "confusion matrix:\n",
      "[[501 199 104  46]\n",
      " [212 542 111  53]\n",
      " [  0  19  29   9]\n",
      " [  0   1   1   0]]\n"
     ]
    }
   ],
   "source": [
    "print(\"confusion matrix:\")\n",
    "print( confusion_matrix(yhat,y_test))"
   ]
  },
  {
   "cell_type": "code",
   "execution_count": 36,
   "id": "638da26d",
   "metadata": {},
   "outputs": [
    {
     "name": "stdout",
     "output_type": "stream",
     "text": [
      "Confusion matrix, without normalization\n",
      "[[501 199 104  46]\n",
      " [212 542 111  53]\n",
      " [  0  19  29   9]\n",
      " [  0   1   1   0]]\n"
     ]
    },
    {
     "data": {
      "image/png": "[encoded data removed]",
      "text/plain": [
       "<Figure size 432x288 with 2 Axes>"
      ]
     },
     "metadata": {
      "needs_background": "light"
     },
     "output_type": "display_data"
    }
   ],
   "source": [
    "plot_confusion_matrix(confusion_matrix(yhat,y_test), classes=target_names,title='Confusion matrix, with normalization')\n"
   ]
  },
  {
   "cell_type": "code",
   "execution_count": 37,
   "id": "63f2e69e",
   "metadata": {},
   "outputs": [
    {
     "name": "stdout",
     "output_type": "stream",
     "text": [
      "accuracy 0.5867542419266557\n",
      "precision 0.5904139433551199\n",
      "recall 0.7122207621550591\n",
      "F1 0.6456223942823109\n"
     ]
    }
   ],
   "source": [
    "from sklearn.metrics import precision_recall_fscore_support,recall_score,accuracy_score\n",
    "prf1=precision_recall_fscore_support(y_test,yhat)\n",
    "acc=accuracy_score(y_test,yhat)\n",
    "\n",
    "def pretty_metrics(precision_recall_fscore=0,accuracy_score=0):\n",
    "    if precision_recall_fscore==0:\n",
    "        metric_dict={'accuracy':[],'precision':[],'recall':[],'F1':[]}\n",
    "        return metric_dict\n",
    "    #This function prints out the precision, recall,f-score and accuracy is also saves the result to a dictionary \n",
    "    metric_dict={'accuracy':[],'precision':[],'recall':[],'F1':[]}\n",
    "    metric_dict['accuracy']=accuracy_score\n",
    "    metric_dict['precision']=precision_recall_fscore[0][1]\n",
    "    metric_dict['recall']=precision_recall_fscore[1][1]\n",
    "    metric_dict['F1']=precision_recall_fscore[2][1]\n",
    "    [print(key,value) for key, value in metric_dict.items()]\n",
    "    return metric_dict\n",
    "\n",
    "metric=pretty_metrics(precision_recall_fscore=prf1,accuracy_score=acc)"
   ]
  },
  {
   "cell_type": "markdown",
   "id": "bf8087bc",
   "metadata": {},
   "source": [
    "# Random Forest"
   ]
  },
  {
   "cell_type": "code",
   "execution_count": 140,
   "id": "796651d4",
   "metadata": {},
   "outputs": [],
   "source": [
    "from sklearn.ensemble import RandomForestClassifier"
   ]
  },
  {
   "cell_type": "code",
   "execution_count": 141,
   "id": "ab11e961",
   "metadata": {},
   "outputs": [],
   "source": [
    "def get_accuracy(X_train, X_test, y_train, y_test, model):\n",
    "    return  {\"test Accuracy\":metrics.accuracy_score(y_test, model.predict(X_test)),\"train Accuracy\": metrics.accuracy_score(y_train, model.predict(X_train))}"
   ]
  },
  {
   "cell_type": "code",
   "execution_count": 142,
   "id": "b5e0510a",
   "metadata": {},
   "outputs": [],
   "source": [
    "n_estimators=20\n"
   ]
  },
  {
   "cell_type": "code",
   "execution_count": 143,
   "id": "2f7dc3db",
   "metadata": {},
   "outputs": [
    {
     "data": {
      "text/plain": [
       "7"
      ]
     },
     "execution_count": 143,
     "metadata": {},
     "output_type": "execute_result"
    }
   ],
   "source": [
    "M_features=X.shape[1]\n",
    "max_features=round(np.sqrt(M_features))-1\n",
    "max_features"
   ]
  },
  {
   "cell_type": "code",
   "execution_count": 144,
   "id": "1b06acd6",
   "metadata": {},
   "outputs": [],
   "source": [
    "rmodel = RandomForestClassifier( max_features=max_features,n_estimators=n_estimators, random_state=0)\n",
    "model.fit(X_train,y_train)\n",
    "rmodel_yhat = model.predict(X_test)"
   ]
  },
  {
   "cell_type": "code",
   "execution_count": 145,
   "id": "211d3927",
   "metadata": {},
   "outputs": [
    {
     "name": "stdout",
     "output_type": "stream",
     "text": [
      "{'test Accuracy': 0.8883415435139573, 'train Accuracy': 1.0}\n"
     ]
    }
   ],
   "source": [
    " from sklearn import metrics\n",
    "print(get_accuracy(X_train, X_test, y_train, y_test, model)) "
   ]
  },
  {
   "cell_type": "code",
   "execution_count": 146,
   "id": "337078a9",
   "metadata": {},
   "outputs": [
    {
     "name": "stdout",
     "output_type": "stream",
     "text": [
      "Confusion matrix, without normalization\n",
      "[[691  21   2   1]\n",
      " [ 22 735  62  33]\n",
      " [  0   5 170  47]\n",
      " [  0   0  11  27]]\n"
     ]
    },
    {
     "data": {
      "image/png": "[encoded data removed]",
      "text/plain": [
       "<Figure size 432x288 with 2 Axes>"
      ]
     },
     "metadata": {
      "needs_background": "light"
     },
     "output_type": "display_data"
    }
   ],
   "source": [
    "forest_cm = plot_confusion_matrix(confusion_matrix(rmodel_yhat,y_test), classes=target_names,title='Confusion matrix, Random Forest')"
   ]
  },
  {
   "cell_type": "code",
   "execution_count": 129,
   "id": "eb690032",
   "metadata": {},
   "outputs": [
    {
     "name": "stdout",
     "output_type": "stream",
     "text": [
      "accuracy 0.8883415435139573\n",
      "precision 0.8626760563380281\n",
      "recall 0.9658344283837057\n",
      "F1 0.9113453192808431\n"
     ]
    }
   ],
   "source": [
    "prf1=precision_recall_fscore_support(y_test,rmodel_yhat)\n",
    "acc=accuracy_score(y_test,rmodel_yhat)\n",
    "RFmetric=pretty_metrics(precision_recall_fscore=prf1,accuracy_score=acc)"
   ]
  },
  {
   "cell_type": "markdown",
   "id": "947948f2",
   "metadata": {},
   "source": [
    "# Result"
   ]
  },
  {
   "cell_type": "code",
   "execution_count": 139,
   "id": "d60cd3fe",
   "metadata": {},
   "outputs": [
    {
     "data": {
      "text/html": [
       "<div>\n",
       "<style scoped>\n",
       "    .dataframe tbody tr th:only-of-type {\n",
       "        vertical-align: middle;\n",
       "    }\n",
       "\n",
       "    .dataframe tbody tr th {\n",
       "        vertical-align: top;\n",
       "    }\n",
       "\n",
       "    .dataframe thead th {\n",
       "        text-align: right;\n",
       "    }\n",
       "</style>\n",
       "<table border=\"1\" class=\"dataframe\">\n",
       "  <thead>\n",
       "    <tr style=\"text-align: right;\">\n",
       "      <th></th>\n",
       "      <th>accuracy</th>\n",
       "      <th>precision</th>\n",
       "      <th>recall</th>\n",
       "      <th>F1</th>\n",
       "    </tr>\n",
       "  </thead>\n",
       "  <tbody>\n",
       "    <tr>\n",
       "      <th>KNN</th>\n",
       "      <td>0.630542</td>\n",
       "      <td>0.676431</td>\n",
       "      <td>0.667543</td>\n",
       "      <td>0.671958</td>\n",
       "    </tr>\n",
       "    <tr>\n",
       "      <th>Random Forest</th>\n",
       "      <td>0.888342</td>\n",
       "      <td>0.862676</td>\n",
       "      <td>0.965834</td>\n",
       "      <td>0.911345</td>\n",
       "    </tr>\n",
       "  </tbody>\n",
       "</table>\n",
       "</div>"
      ],
      "text/plain": [
       "               accuracy  precision    recall        F1\n",
       "KNN            0.630542   0.676431  0.667543  0.671958\n",
       "Random Forest  0.888342   0.862676  0.965834  0.911345"
      ]
     },
     "execution_count": 139,
     "metadata": {},
     "output_type": "execute_result"
    }
   ],
   "source": [
    "pd.DataFrame([KNNmetric, RFmetric],\n",
    "             index=['KNN', 'Random Forest'])"
   ]
  },
  {
   "cell_type": "code",
   "execution_count": null,
   "id": "25a1f2a7",
   "metadata": {},
   "outputs": [],
   "source": []
  }
 ],
 "metadata": {
  "kernelspec": {
   "display_name": "Python 3 (ipykernel)",
   "language": "python",
   "name": "python3"
  },
  "language_info": {
   "codemirror_mode": {
    "name": "ipython",
    "version": 3
   },
   "file_extension": ".py",
   "mimetype": "text/x-python",
   "name": "python",
   "nbconvert_exporter": "python",
   "pygments_lexer": "ipython3",
   "version": "3.9.7"
  }
 },
 "nbformat": 4,
 "nbformat_minor": 5
}
