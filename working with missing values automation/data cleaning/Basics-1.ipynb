{
 "cells": [
  {
   "cell_type": "code",
   "execution_count": 80,
   "metadata": {},
   "outputs": [
    {
     "ename": "SyntaxError",
     "evalue": "invalid syntax (3640285442.py, line 1)",
     "output_type": "error",
     "traceback": [
      "\u001b[1;36m  Input \u001b[1;32mIn [80]\u001b[1;36m\u001b[0m\n\u001b[1;33m    pip install pandas\u001b[0m\n\u001b[1;37m        ^\u001b[0m\n\u001b[1;31mSyntaxError\u001b[0m\u001b[1;31m:\u001b[0m invalid syntax\n"
     ]
    }
   ],
   "source": [
    "#pip install pandas"
   ]
  },
  {
   "cell_type": "code",
   "execution_count": 81,
   "metadata": {},
   "outputs": [
    {
     "name": "stdout",
     "output_type": "stream",
     "text": [
      "    x   z     y\n",
      "0   2   3   NaN\n",
      "1  10  30  20.0\n"
     ]
    }
   ],
   "source": [
    "# Create a Dataframe in Python - a two-dimension collection of data in tabular form\n",
    "import pandas as pd\n",
    "# assign values to lists.  \n",
    "data = [{'x': 2, 'z':3}, {'x': 10, 'y': 20, 'z': 30}]   \n",
    "  \n",
    "# Creates DataFrame.  \n",
    "df = pd.DataFrame(data)  \n",
    "  \n",
    "# Print the data  \n",
    "print(df)"
   ]
  },
  {
   "cell_type": "code",
   "execution_count": 82,
   "metadata": {},
   "outputs": [
    {
     "name": "stdout",
     "output_type": "stream",
     "text": [
      "0     2\n",
      "1    10\n",
      "Name: x, dtype: int64\n",
      "0     2\n",
      "1    10\n",
      "Name: x, dtype: int64\n"
     ]
    }
   ],
   "source": [
    "#Dateframe Selection\n",
    "print(df.x)\n",
    "print(df['x'])\n"
   ]
  },
  {
   "cell_type": "code",
   "execution_count": 83,
   "metadata": {},
   "outputs": [
    {
     "name": "stdout",
     "output_type": "stream",
     "text": [
      "    x   z     y\n",
      "0   2   3   NaN\n",
      "1  10  30  20.0 \n",
      "\n",
      "0     3\n",
      "1    30\n",
      "Name: z, dtype: int64\n",
      "x    10.0\n",
      "z    30.0\n",
      "y    20.0\n",
      "Name: 1, dtype: float64\n"
     ]
    }
   ],
   "source": [
    "print(df, '\\n')\n",
    "print(df.iloc[:,1])\n",
    "print(df.iloc[1,:])"
   ]
  },
  {
   "cell_type": "code",
   "execution_count": 84,
   "metadata": {},
   "outputs": [
    {
     "name": "stdout",
     "output_type": "stream",
     "text": [
      "    x   z     y\n",
      "A   2   3   NaN\n",
      "B  10  30  20.0 \n",
      "\n",
      "x    2.0\n",
      "z    3.0\n",
      "y    NaN\n",
      "Name: A, dtype: float64\n",
      "30\n"
     ]
    }
   ],
   "source": [
    "#df['label'] = ['A','B']\n",
    "df = df.set_index([['A','B']])\n",
    "print(df, '\\n')\n",
    "print(df.loc['A'])\n",
    "print(df.loc['B','z'])"
   ]
  },
  {
   "cell_type": "markdown",
   "metadata": {},
   "source": [
    "*DataFrame Functions*\n",
    "\n",
    "    df.describe() - provides descriptive statistics of all numerical columns\n",
    "    df.unique() - provides the number of unique items in a column\n",
    "    df.shape() - gets the number of rows and columns in the dataframe\n",
    "    df.sort_values() - sorts the dataframe by specific column\n",
    "\n",
    "*DataFrame Column Functions*\n",
    "\n",
    "    .info() - provides an overview of all the columns, number of non-nulls, and data types in a DataFrame\n",
    "    .max() - gets the max value from a column\n",
    "    .min() - gets the min value from a column\n",
    "    .mean() - get the mean value from a column\n",
    "    .idxmax() - gets the integer index position of the max value from a column\n",
    "    .idxmin() - gets the integer index position of the min value from a column\n",
    "    .loc() - gets rows (or columns) with particular labels from the index\n",
    "    .iloc() - gets rows (or columns) with particular positions in the index (only takes integers)\n"
   ]
  },
  {
   "cell_type": "markdown",
   "metadata": {},
   "source": [
    "__Data Filtering Example__\n",
    "\n",
    "    print(len(df[df.Column_Name.between(90,100)]))\n",
    "    print(len(df[(df.Column_Name_A > 90) & (df.Column_Name_B < 15.6)]))"
   ]
  },
  {
   "cell_type": "markdown",
   "metadata": {},
   "source": [
    "__Group By__\n",
    "\n",
    "    df.groupby(['Column_Name']).mean()\n",
    "\n",
    "In the above code, we grouped the dataset by the quality column, then used the mean() aggregate function to see the average of ALL numerical columns for each year. However, we don’t have to use the sum() function with group by. We can easily use other aggregate functions, such as sum(), min(), max()....\n",
    "\n",
    "Below is a list of aggregate functions we can use on our group bys.\n",
    "\n",
    "    count() – Number of non-null observations\n",
    "    sum() – Sum of values\n",
    "    mean() – Mean of values\n",
    "    median() – Arithmetic median of values\n",
    "    min() – Minimum\n",
    "    max() – Maximum\n",
    "    mode() – Mode\n",
    "    std() – Standard deviation\n",
    "    var() – Variance\n",
    "    size() - Number of rows\n",
    "\n",
    "We can _specify the columns we want to group by_:\n",
    "\n",
    "    df.groupby(['Column_Name'])[['price','size_in_sqft','no_of_bedrooms']].mean()\n",
    "\n",
    "Try this line of code below and see what it does:\n",
    "\n",
    "    df.groupby(['Column_Name_A','Column_Name_B'])[['price','no_of_bedrooms']].mean()\n",
    "\n",
    "old way - averages of both columns were computed for each neighborhood\n",
    "\n",
    "    df.groupby(['neighborhood'])[[\"price\",\"price_per_sqft\"]].mean()\n",
    "\n",
    "new way - using the aggregate function .agg()\n",
    "\n",
    "    df.groupby(['neighborhood']).agg({'price' : 'mean', 'price_per_sqft' : 'max'})"
   ]
  },
  {
   "cell_type": "code",
   "execution_count": null,
   "metadata": {},
   "outputs": [],
   "source": []
  },
  {
   "cell_type": "markdown",
   "metadata": {},
   "source": [
    "# Git-Hub Collaboration Guide\n",
    "https://medium.com/@jonathanmines/the-ultimate-github-collaboration-guide-df816e98fb67"
   ]
  }
 ],
 "metadata": {
  "interpreter": {
   "hash": "981a335c3c9dd24028427f43c99e44acb9d06bf077e02c674592cebb66ea0639"
  },
  "kernelspec": {
   "display_name": "Python 3.10.4 ('python3.10')",
   "language": "python",
   "name": "python3"
  },
  "language_info": {
   "codemirror_mode": {
    "name": "ipython",
    "version": 3
   },
   "file_extension": ".py",
   "mimetype": "text/x-python",
   "name": "python",
   "nbconvert_exporter": "python",
   "pygments_lexer": "ipython3",
   "version": "3.10.4"
  },
  "orig_nbformat": 4
 },
 "nbformat": 4,
 "nbformat_minor": 2
}
